{
 "cells": [
  {
   "cell_type": "code",
   "execution_count": 1,
   "metadata": {},
   "outputs": [],
   "source": [
    "import numpy as np\n",
    "import matplotlib.pyplot as plt\n",
    "import torch\n",
    "import torch.nn as nn\n",
    "import torchvision.models as models\n",
    "import torchvision.transforms as transforms\n",
    "import torch.optim as optim\n",
    "import cv2\n",
    "import os\n",
    "import gc\n",
    "from sklearn.model_selection import train_test_split\n",
    "from tqdm import tqdm"
   ]
  },
  {
   "cell_type": "markdown",
   "metadata": {},
   "source": [
    "## Caption Generator Model"
   ]
  },
  {
   "cell_type": "code",
   "execution_count": 2,
   "metadata": {},
   "outputs": [],
   "source": [
    "class Encoder(nn.Module):\n",
    "    def __init__(self, embed_size):\n",
    "        super(Encoder, self).__init__()\n",
    "        self.resnet = models.resnet152(weights=models.ResNet152_Weights.DEFAULT)\n",
    "        self.resnet.fc = nn.Linear(self.resnet.fc.in_features, embed_size)\n",
    "        self.relu = nn.ReLU()\n",
    "        self.dropout = nn.Dropout(0.5)\n",
    "\n",
    "\n",
    "        for name, params in self.resnet.named_parameters():\n",
    "            if \"fc\" in name:\n",
    "                params.requires_grad = True\n",
    "            else:\n",
    "                params.requires_grad = False\n",
    "\n",
    "    \n",
    "    def forward(self, x):\n",
    "        x = self.resnet(x)\n",
    "        # x = self.dropout(self.relu(x))\n",
    "        x = self.relu(x)\n",
    "        return x\n",
    "\n",
    "\n",
    "class Decoder(nn.Module):\n",
    "    def __init__(self, embed_size, vocab_size, hidden_size):\n",
    "        super(Decoder, self).__init__()\n",
    "        self.embedding = nn.Embedding(vocab_size, embed_size)\n",
    "        self.lstm = nn.LSTM(embed_size, hidden_size)\n",
    "        self.dropout = nn.Dropout(0.5)\n",
    "        self.fc = nn.Linear(embed_size, embed_size)\n",
    "        self.output = nn.Linear(embed_size, vocab_size)\n",
    "        self.relu = nn.ReLU()\n",
    "\n",
    "\n",
    "    def forward(self, x, y_in):\n",
    "        embeddings = self.dropout(self.embedding(y_in))\n",
    "        outputs, (hidden, cell) = self.lstm(embeddings)\n",
    "        last_timestep_output = outputs[:, -1]\n",
    "        sum_vector = x + last_timestep_output\n",
    "        x = self.dropout(self.relu(self.fc(sum_vector)))\n",
    "        return self.output(x)\n",
    "\n",
    "\n",
    "\n",
    "class CaptionGenerator(nn.Module):\n",
    "    def __init__(self, embed_size, vocab_size, hidden_size):\n",
    "        super(CaptionGenerator, self).__init__()\n",
    "        self.encoder = Encoder(embed_size)\n",
    "        self.decoder = Decoder(embed_size, vocab_size, hidden_size)\n",
    "    \n",
    "    def forward(self, image, y_in):\n",
    "        features = self.encoder(image)\n",
    "        outputs = self.decoder(features, y_in)\n",
    "        return outputs\n"
   ]
  },
  {
   "cell_type": "code",
   "execution_count": 3,
   "metadata": {},
   "outputs": [],
   "source": [
    "MAX_LEN = 34\n",
    "VOCAB_SIZE = 8767"
   ]
  },
  {
   "cell_type": "code",
   "execution_count": 4,
   "metadata": {},
   "outputs": [],
   "source": [
    "model = CaptionGenerator(embed_size=256,\n",
    "                         vocab_size=VOCAB_SIZE,\n",
    "                         hidden_size=256)"
   ]
  },
  {
   "cell_type": "markdown",
   "metadata": {},
   "source": [
    "## Veri setining yuklenmesi"
   ]
  },
  {
   "cell_type": "code",
   "execution_count": 5,
   "metadata": {},
   "outputs": [],
   "source": [
    "X = torch.load('X.pt')\n",
    "y = torch.load('y.pt')"
   ]
  },
  {
   "cell_type": "code",
   "execution_count": 6,
   "metadata": {},
   "outputs": [
    {
     "data": {
      "text/plain": [
       "(torch.Size([40455]), torch.Size([40455, 34]))"
      ]
     },
     "execution_count": 6,
     "metadata": {},
     "output_type": "execute_result"
    }
   ],
   "source": [
    "X.shape, y.shape"
   ]
  },
  {
   "cell_type": "code",
   "execution_count": 7,
   "metadata": {},
   "outputs": [],
   "source": [
    "X_train, X_test, y_train, y_test = train_test_split(\n",
    "    X, y,\n",
    "    random_state=42, test_size=0.2\n",
    ")"
   ]
  },
  {
   "cell_type": "code",
   "execution_count": 8,
   "metadata": {},
   "outputs": [
    {
     "data": {
      "text/plain": [
       "((torch.Size([32364]), torch.Size([32364, 34])),\n",
       " (torch.Size([8091]), torch.Size([8091, 34])))"
      ]
     },
     "execution_count": 8,
     "metadata": {},
     "output_type": "execute_result"
    }
   ],
   "source": [
    "(X_train.shape, y_train.shape), (X_test.shape, y_test.shape)"
   ]
  },
  {
   "cell_type": "code",
   "execution_count": 9,
   "metadata": {},
   "outputs": [],
   "source": [
    "image_list = []\n",
    "with open('image_list.txt', 'r') as f:\n",
    "    while True:\n",
    "        line = f.readline()\n",
    "        if len(line) == 0:\n",
    "            break\n",
    "        image_list.append(str(line.split('\\n')[0]))"
   ]
  },
  {
   "cell_type": "markdown",
   "metadata": {},
   "source": [
    "## Raw veri setining evrilmesinde yardimci olacak fonksiyonlar"
   ]
  },
  {
   "cell_type": "code",
   "execution_count": 10,
   "metadata": {},
   "outputs": [],
   "source": [
    "def load_img(filename):\n",
    "    file_path = os.path.join('Images', filename)\n",
    "    if os.path.isfile(file_path) == False:\n",
    "        raise FileNotFoundError\n",
    "    \n",
    "    \n",
    "    img = cv2.imread(file_path)\n",
    "    img = cv2.cvtColor(img, cv2.COLOR_BGR2RGB)\n",
    "    img = cv2.resize(img, (224, 224))\n",
    "    img = img / 255 # normalize\n",
    "\n",
    "    transform = transforms.Compose([transforms.ToTensor()])\n",
    "    return transform(img)\n"
   ]
  },
  {
   "cell_type": "code",
   "execution_count": 11,
   "metadata": {},
   "outputs": [],
   "source": [
    "def generate_y_input_output(x1, x2):\n",
    "    x = []\n",
    "    y_in = []\n",
    "    y_out = []\n",
    "\n",
    "    x2 = x2.tolist()\n",
    "\n",
    "    start_token_index = x2.index(1)\n",
    "\n",
    "    for i in range(start_token_index+1, len(x2)):\n",
    "        _y_in = x2[start_token_index:i]\n",
    "        _y_out = x2[i]\n",
    "\n",
    "        padd_len = MAX_LEN - len(_y_in)\n",
    "        _y_in = [0 for j in range(padd_len)] + _y_in\n",
    "\n",
    "        x.append(load_img(image_list[x1]))\n",
    "        y_in.append(_y_in)\n",
    "        y_out.append(_y_out)\n",
    "    \n",
    "    return x, y_in, y_out\n"
   ]
  },
  {
   "cell_type": "code",
   "execution_count": 12,
   "metadata": {},
   "outputs": [],
   "source": [
    "def generate_batch_y_input_output(x1, x2, device):\n",
    "    x = []\n",
    "    y_in = []\n",
    "    y_out = []\n",
    "\n",
    "    for _x1, _x2 in zip(x1, x2):\n",
    "        _x, _y_in, _y_out = generate_y_input_output(_x1, _x2)\n",
    "        x = x + _x\n",
    "        y_in = y_in + _y_in\n",
    "        y_out = y_out + _y_out\n",
    "    \n",
    "\n",
    "    x = np.asarray(x)\n",
    "    x = torch.from_numpy(x).to(device).type(torch.float32)\n",
    "    y_in = torch.tensor(y_in).to(device)\n",
    "    y_out = torch.tensor(y_out).to(device)\n",
    "\n",
    "    return x, y_in, y_out"
   ]
  },
  {
   "cell_type": "markdown",
   "metadata": {},
   "source": [
    "## Model Egitimini yapacak fonksiyon"
   ]
  },
  {
   "cell_type": "code",
   "execution_count": 13,
   "metadata": {},
   "outputs": [],
   "source": [
    "def evaluate(model, test_loader, device):\n",
    "    \n",
    "    model.eval()\n",
    "\n",
    "    with torch.no_grad():\n",
    "\n",
    "        losses = []\n",
    "\n",
    "        print(\"Evaluating...\")\n",
    "        \n",
    "        for data in tqdm(test_loader):\n",
    "            x1, x2 = data\n",
    "            x, y_in, y_out = generate_batch_y_input_output(x1, x2, device)\n",
    "            outputs = model(x, y_in)\n",
    "            loss = nn.functional.cross_entropy(outputs, y_out)\n",
    "            losses.append(loss.item())\n",
    "        \n",
    "        return sum(losses) / len(losses)\n"
   ]
  },
  {
   "cell_type": "code",
   "execution_count": 14,
   "metadata": {},
   "outputs": [],
   "source": [
    "def train(model, \n",
    "          X_train, y_train,\n",
    "          X_val, y_val,\n",
    "          epochs=5, \n",
    "          batch_size=8,\n",
    "          device=torch.device('cpu'),\n",
    "          learning_rate=1e-5):\n",
    "    \n",
    "    train_dataset = torch.utils.data.TensorDataset(X_train, y_train)\n",
    "    train_loader = torch.utils.data.DataLoader(train_dataset,\n",
    "                                              batch_size=batch_size, \n",
    "                                              shuffle=True)\n",
    "    \n",
    "\n",
    "    test_dataset = torch.utils.data.TensorDataset(X_val, y_val)\n",
    "    test_loader = torch.utils.data.DataLoader(test_dataset,\n",
    "                                              batch_size=batch_size,\n",
    "                                              shuffle=True)\n",
    "\n",
    "\n",
    "    optimizer = torch.optim.SGD(model.parameters(), lr=learning_rate)\n",
    "\n",
    "\n",
    "    model = model.to(device)\n",
    "\n",
    "    average_losses = [] # the average losses of each epoch\n",
    "    validation_losses = [] # the validation losses after each epoch\n",
    "    for i in range(epochs):\n",
    "\n",
    "        model.train()\n",
    "\n",
    "        print(f'Epoch {i+1}')\n",
    "        print('---------------')\n",
    "\n",
    "        losses = []\n",
    "        for data in tqdm(train_loader):\n",
    "            gc.collect()\n",
    "\n",
    "            x1, x2 = data\n",
    "            x, y_in, y_out = generate_batch_y_input_output(x1, x2, device)\n",
    "            outputs = model(x, y_in)\n",
    "            loss = nn.functional.cross_entropy(outputs, y_out)\n",
    "            losses.append(loss.item())\n",
    "            optimizer.zero_grad()\n",
    "            loss.backward()\n",
    "            optimizer.step()\n",
    "        \n",
    "\n",
    "        validation_loss = evaluate(model, test_loader, device)\n",
    "        validation_losses.append(validation_loss)\n",
    "        average_loss = sum(losses) / len(losses)\n",
    "        average_losses.append(average_loss)\n",
    "        print(f'The end of epoch {i+1}, the average loss is {average_loss}, the validation loss is {validation_loss}')\n",
    "\n",
    "        # saving model in each epoch\n",
    "        torch.save(model, 'model.pt')\n",
    "    \n",
    "    return average_losses, validation_losses\n"
   ]
  },
  {
   "cell_type": "markdown",
   "metadata": {},
   "source": [
    "## Modelin Egitildigi yer"
   ]
  },
  {
   "cell_type": "code",
   "execution_count": null,
   "metadata": {},
   "outputs": [],
   "source": [
    "average_losses, validation_losses = train(\n",
    "    model,\n",
    "    X_train, y_train, X_test, y_test,\n",
    "    epochs=1,\n",
    "    batch_size=8,\n",
    "    # device=torch.device('cuda'),\n",
    "    device=torch.device('cpu'),\n",
    "    learning_rate=0.01\n",
    ")"
   ]
  },
  {
   "cell_type": "code",
   "execution_count": null,
   "metadata": {},
   "outputs": [],
   "source": [
    "plt.plot(average_losses, color='blue')\n",
    "plt.plot(validation_losses, color='purple')\n",
    "plt.title('losses')\n",
    "plt.xlabel('epoch')\n",
    "plt.ylabel('loss')\n",
    "plt.legend(['average_loss', 'validation_loss'])\n",
    "plt.show()"
   ]
  },
  {
   "cell_type": "markdown",
   "metadata": {},
   "source": [
    "## Modeli C++ formatinda kaydetme"
   ]
  },
  {
   "cell_type": "code",
   "execution_count": null,
   "metadata": {},
   "outputs": [],
   "source": [
    "model_scripted = torch.jit.script(model)\n",
    "model_scripted.save('model_scripted.pt')"
   ]
  }
 ],
 "metadata": {
  "kernelspec": {
   "display_name": "aienv",
   "language": "python",
   "name": "python3"
  },
  "language_info": {
   "codemirror_mode": {
    "name": "ipython",
    "version": 3
   },
   "file_extension": ".py",
   "mimetype": "text/x-python",
   "name": "python",
   "nbconvert_exporter": "python",
   "pygments_lexer": "ipython3",
   "version": "3.10.14"
  }
 },
 "nbformat": 4,
 "nbformat_minor": 2
}
